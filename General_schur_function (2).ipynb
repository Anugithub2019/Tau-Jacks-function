{
 "cells": [
  {
   "cell_type": "code",
   "execution_count": 1,
   "id": "0de7759a",
   "metadata": {},
   "outputs": [],
   "source": [
    "Sym = SymmetricFunctions(QQ)\n",
    "zonal = Sym.jack(t=2).J()\n",
    "s = Sym.schur()\n",
    "p = Partition([3,2,1,1])\n",
    "#s(JJ(p)) == p.hook_product(1)*s(p)"
   ]
  },
  {
   "cell_type": "code",
   "execution_count": null,
   "id": "6598633d",
   "metadata": {},
   "outputs": [],
   "source": []
  },
  {
   "cell_type": "code",
   "execution_count": null,
   "id": "107e1a7a",
   "metadata": {},
   "outputs": [],
   "source": []
  },
  {
   "cell_type": "code",
   "execution_count": 2,
   "id": "101e3247",
   "metadata": {},
   "outputs": [
    {
     "data": {
      "text/plain": [
       "s[2, 2, 1]"
      ]
     },
     "execution_count": 2,
     "metadata": {},
     "output_type": "execute_result"
    }
   ],
   "source": [
    "Sym = SymmetricFunctions(QQ)\n",
    "JP = Sym.jack(t=1).P()\n",
    "s = Sym.schur()\n",
    "s(JP([2,2,1]))"
   ]
  },
  {
   "cell_type": "code",
   "execution_count": 3,
   "id": "031525fa",
   "metadata": {},
   "outputs": [],
   "source": [
    "P = Sym.p()\n",
    "M = Sym.m()\n",
    "S = Sym.s()"
   ]
  },
  {
   "cell_type": "code",
   "execution_count": 6,
   "id": "ba30032e",
   "metadata": {},
   "outputs": [
    {
     "data": {
      "text/plain": [
       "1/12*p[1, 1, 1, 1] + 1/4*p[2, 2] - 1/3*p[3, 1]"
      ]
     },
     "execution_count": 6,
     "metadata": {},
     "output_type": "execute_result"
    }
   ],
   "source": [
    "P(s1[2,2])"
   ]
  },
  {
   "cell_type": "code",
   "execution_count": 63,
   "id": "5807b4bc",
   "metadata": {},
   "outputs": [
    {
     "data": {
      "text/plain": [
       "2*m[1, 1, 1, 1] + m[2, 1, 1] + m[2, 2]"
      ]
     },
     "execution_count": 63,
     "metadata": {},
     "output_type": "execute_result"
    }
   ],
   "source": [
    "M(s1[2,2])"
   ]
  },
  {
   "cell_type": "code",
   "execution_count": 65,
   "id": "a9539172",
   "metadata": {},
   "outputs": [
    {
     "data": {
      "text/plain": [
       "16*m[1, 1, 1, 1, 1, 1] + 8*m[2, 1, 1, 1, 1] + 4*m[2, 2, 1, 1] + 2*m[2, 2, 2] + 2*m[3, 1, 1, 1] + m[3, 2, 1]"
      ]
     },
     "execution_count": 65,
     "metadata": {},
     "output_type": "execute_result"
    }
   ],
   "source": [
    "M(s1[3,2,1])"
   ]
  },
  {
   "cell_type": "code",
   "execution_count": 5,
   "id": "d5c1a98c",
   "metadata": {},
   "outputs": [
    {
     "data": {
      "text/plain": [
       "s[2, 2, 1]"
      ]
     },
     "execution_count": 5,
     "metadata": {},
     "output_type": "execute_result"
    }
   ],
   "source": [
    "R.<h> = PowerSeriesRing(QQ)\n",
    "Sym1 = SymmetricFunctions(R)\n",
    "JP = Sym1.jack(t=1).P()\n",
    "s1 = Sym1.schur()\n",
    "s(JP([2,2,1]))"
   ]
  },
  {
   "cell_type": "code",
   "execution_count": 12,
   "id": "608dadbe",
   "metadata": {},
   "outputs": [
    {
     "data": {
      "text/plain": [
       "h*s[2, 1]"
      ]
     },
     "execution_count": 12,
     "metadata": {},
     "output_type": "execute_result"
    }
   ],
   "source": [
    "s1([2,1])*h"
   ]
  },
  {
   "cell_type": "code",
   "execution_count": 13,
   "id": "72b9d4cf",
   "metadata": {},
   "outputs": [
    {
     "data": {
      "text/plain": [
       "(1/12-1/4*h-5/12*h^2-5/6*h^3-31/24*h^4-133/48*h^5-505/96*h^6-2065/192*h^7-8161/384*h^8-32833/768*h^9-130945/1536*h^10-524545/3072*h^11-2096641/6144*h^12-8389633/12288*h^13-33552385/24576*h^14-134221825/49152*h^15-536862721/98304*h^16-2147500033/196608*h^17-8589901825/393216*h^18-34359803905/786432*h^19+O(h^20))*p[1, 1, 1] - (1/4+1/4*h+5/4*h^2+7/4*h^3+17/4*h^4+31/4*h^5+65/4*h^6+127/4*h^7+257/4*h^8+511/4*h^9+1025/4*h^10+2047/4*h^11+4097/4*h^12+8191/4*h^13+16385/4*h^14+32767/4*h^15+65537/4*h^16+131071/4*h^17+262145/4*h^18+524287/4*h^19+O(h^20))*p[2, 1] + (1/6-1/2*h-1/3*h^2-17/12*h^3-59/24*h^4-263/48*h^5-1007/96*h^6-4127/192*h^7-16319/384*h^8-65663/768*h^9-261887/1536*h^10-1049087/3072*h^11-4193279/6144*h^12-16779263/12288*h^13-67104767/24576*h^14-268443647/49152*h^15-1073725439/98304*h^16-4295000063/196608*h^17-17179803647/393216*h^18-68719607807/786432*h^19+O(h^20))*p[3]"
      ]
     },
     "execution_count": 13,
     "metadata": {},
     "output_type": "execute_result"
    }
   ],
   "source": [
    "P(s1([1,1,1])*1/((1+h)(1+2*h)) -s1([2,1])*h^2/((1+h)(1-h)) + s1([3])*(h/((1-2*h)(1-h))))"
   ]
  },
  {
   "cell_type": "code",
   "execution_count": null,
   "id": "dc124297",
   "metadata": {},
   "outputs": [],
   "source": []
  },
  {
   "cell_type": "code",
   "execution_count": 53,
   "id": "643c497e",
   "metadata": {},
   "outputs": [
    {
     "data": {
      "text/plain": [
       "-(1/6+1/12*h+1/24*h^2+1/48*h^3+1/96*h^4+1/192*h^5+1/384*h^6+1/768*h^7+1/1536*h^8+1/3072*h^9+1/6144*h^10+1/12288*h^11+1/24576*h^12+1/49152*h^13+1/98304*h^14+1/196608*h^15+1/393216*h^16+1/786432*h^17+1/1572864*h^18+1/3145728*h^19+O(h^20))*p[1, 1, 1] + (1/6+1/12*h+1/24*h^2+1/48*h^3+1/96*h^4+1/192*h^5+1/384*h^6+1/768*h^7+1/1536*h^8+1/3072*h^9+1/6144*h^10+1/12288*h^11+1/24576*h^12+1/49152*h^13+1/98304*h^14+1/196608*h^15+1/393216*h^16+1/786432*h^17+1/1572864*h^18+1/3145728*h^19+O(h^20))*p[3]"
      ]
     },
     "execution_count": 53,
     "metadata": {},
     "output_type": "execute_result"
    }
   ],
   "source": [
    "P(-s1([2,1])*1/((1+h)(1-h)))"
   ]
  },
  {
   "cell_type": "code",
   "execution_count": 61,
   "id": "4de6dd06",
   "metadata": {},
   "outputs": [
    {
     "data": {
      "text/plain": [
       "-2"
      ]
     },
     "execution_count": 61,
     "metadata": {},
     "output_type": "execute_result"
    }
   ],
   "source": [
    "symmetrica.charvalue([3, 2, 1], [3, 3])\n"
   ]
  },
  {
   "cell_type": "code",
   "execution_count": 15,
   "id": "5e24b18f",
   "metadata": {},
   "outputs": [
    {
     "data": {
      "text/plain": [
       "12"
      ]
     },
     "execution_count": 15,
     "metadata": {},
     "output_type": "execute_result"
    }
   ],
   "source": [
    "var('j')\n",
    "prod(j for j in [1,3,4])"
   ]
  },
  {
   "cell_type": "code",
   "execution_count": 16,
   "id": "a862da2d",
   "metadata": {},
   "outputs": [],
   "source": [
    "def pprod(n,par):\n",
    "    k =1\n",
    "    var('h')\n",
    "    list(var('p_%d' % i) for i in par)\n",
    "    for i in par:\n",
    "        k = k*( p_i )/h\n",
    "    return k\n",
    "\n",
    "        "
   ]
  },
  {
   "cell_type": "code",
   "execution_count": 17,
   "id": "3dc8287b",
   "metadata": {},
   "outputs": [
    {
     "data": {
      "text/plain": [
       "p_1*p_2*p_3/h^3"
      ]
     },
     "execution_count": 17,
     "metadata": {},
     "output_type": "execute_result"
    }
   ],
   "source": [
    "var('h')\n",
    "p = prod(list(var('p_%d' % i) for i in [3,2,1]))*h^(-3)\n",
    "p\n"
   ]
  },
  {
   "cell_type": "code",
   "execution_count": 18,
   "id": "4acb64e7",
   "metadata": {},
   "outputs": [],
   "source": [
    "def Gschur(Par):\n",
    "    n = len(Par)\n",
    "    var('h')\n",
    "    d = sum(Par)\n",
    "    ans = 0 \n",
    "    p= list(var('p_%d' % i) for i in range(2*n))\n",
    "    for par in Partitions(d):\n",
    "        p= prod(list(var('p_%d' % i) for i in par))*h^(-len(par))\n",
    "        ans = ans + 1/(par.aut())*symmetrica.charvalue(Par, par)*p\n",
    "    return ans    \n",
    "        \n",
    "def hook(d,k):\n",
    "    par = [k]+ [1 for i in range(d-k)]\n",
    "    return(Partition(par))\n",
    "def Jack(Par):\n",
    "    Sym = SymmetricFunctions(QQ)\n",
    "    zonal = Sym.jack(t=2).J()\n",
    "    var('h')\n",
    "    ans = sum(coeff*prod(var('p_{}'.format(k))/h for k in partition) for partition, coeff in P(zonal(Par)))\n",
    "    return ans\n",
    "    \n",
    "    "
   ]
  },
  {
   "cell_type": "code",
   "execution_count": 19,
   "id": "9cefb0b4",
   "metadata": {},
   "outputs": [
    {
     "data": {
      "text/plain": [
       "p_1^4/h^4 - p_1^2*p_2/h^3 - 2*p_2^2/h^2 - 2*p_1*p_3/h^2 + 4*p_4/h"
      ]
     },
     "execution_count": 19,
     "metadata": {},
     "output_type": "execute_result"
    }
   ],
   "source": [
    "sum(coeff*prod(var('p_{}'.format(k))/h for k in partition) for partition, coeff in P(zonal([2,1,1])))"
   ]
  },
  {
   "cell_type": "code",
   "execution_count": 20,
   "id": "7fdb2964",
   "metadata": {},
   "outputs": [
    {
     "data": {
      "text/plain": [
       "p_1^4/h^4 + 2*p_1^2*p_2/h^3 + 7*p_2^2/h^2 - 8*p_1*p_3/h^2 - 2*p_4/h"
      ]
     },
     "execution_count": 20,
     "metadata": {},
     "output_type": "execute_result"
    }
   ],
   "source": [
    "Jack([2,2])"
   ]
  },
  {
   "cell_type": "code",
   "execution_count": 21,
   "id": "40d36424",
   "metadata": {},
   "outputs": [
    {
     "data": {
      "text/plain": [
       "p[1, 1, 1, 1] + 2*p[2, 1, 1] + 7*p[2, 2] - 8*p[3, 1] - 2*p[4]"
      ]
     },
     "execution_count": 21,
     "metadata": {},
     "output_type": "execute_result"
    }
   ],
   "source": [
    "P(zonal([2,2]))"
   ]
  },
  {
   "cell_type": "code",
   "execution_count": 22,
   "id": "86723e11",
   "metadata": {},
   "outputs": [
    {
     "data": {
      "text/plain": [
       "[4, 1, 1, 1]"
      ]
     },
     "execution_count": 22,
     "metadata": {},
     "output_type": "execute_result"
    }
   ],
   "source": [
    "Partition([4,1,1,1])"
   ]
  },
  {
   "cell_type": "code",
   "execution_count": 75,
   "id": "6aa5e70e",
   "metadata": {},
   "outputs": [],
   "source": [
    "# One face oriented and non-oriented maps \n",
    "\n",
    "\n",
    "def OptMonHur(n):\n",
    "    var('h')\n",
    "    p = sum((-1)^(n-k)*Gschur(hook(n,k))*prod((1-(k-j)*h)^(-1) for j in range(1,n+1)) for k in range(1,n+1))\n",
    "    return(p)\n",
    "\n",
    "\n",
    "def NonOptMonHur(n):\n",
    "    var('h')\n",
    "    p = sum((-1)^(n-k)*Jack(hook(n,k))*prod((1-(k-j)*h)^(-1) for j in range(1,n+1)) for k in range(1,n+1))\n",
    "    return(p)\n",
    "\n",
    "def NonFatgraph(n):\n",
    "    var('h')\n",
    "    p = sum((-1)^(n-k)*Jack(hook(n,k))*prod((1+(k-j)*h)^(1) for j in range(1,n+1)) for k in range(1,n+1))\n",
    "    return(p)\n",
    "\n",
    "def Fatgraph(n):\n",
    "    var('h')\n",
    "    p = sum((-1)^(n-k)*Gschur(hook(n,k))*prod((1+(k-j)*h)^(1) for j in range(1,n+1)) for k in range(1,n+1))\n",
    "    return(p)\n",
    "\n",
    "def NonRibb(n):\n",
    "    var('h')\n",
    "    p = sum((-1)^(n-k)*Jack(hook(n,k))*prod((1+(k-j)*h)^(2) for j in range(1,n+1)) for k in range(1,n+1))\n",
    "    return(p)\n"
   ]
  },
  {
   "cell_type": "code",
   "execution_count": 24,
   "id": "2c1d54c7",
   "metadata": {
    "scrolled": true
   },
   "outputs": [
    {
     "data": {
      "text/plain": [
       "(p_1^3)*h^(-3) + (13*p_1^3)*h^(-1) + (61*p_1^3)*h + (253*p_1^3)*h^3 + (1021*p_1^3)*h^5 + (4093*p_1^3)*h^7 + (16381*p_1^3)*h^9 + (65533*p_1^3)*h^11 + (262141*p_1^3)*h^13 + (1048573*p_1^3)*h^15 + (4194301*p_1^3)*h^17 + (16777213*p_1^3)*h^19 + Order(h^20)"
      ]
     },
     "execution_count": 24,
     "metadata": {},
     "output_type": "execute_result"
    }
   ],
   "source": [
    "NonOptMonHur(3).subs(p_2 = 0, p_3 =0).series(h)\n"
   ]
  },
  {
   "cell_type": "code",
   "execution_count": 55,
   "id": "7f5a7001",
   "metadata": {},
   "outputs": [
    {
     "data": {
      "text/plain": [
       "1*h^(-1) + Order(h^5)"
      ]
     },
     "execution_count": 55,
     "metadata": {},
     "output_type": "execute_result"
    }
   ],
   "source": [
    "NonFatgraph(1).subs(p_1=1,p_2 = 1, p_3 =1,p_4=1,p_5=1,p_6=1,p_7 =1).series(h,5)\n"
   ]
  },
  {
   "cell_type": "code",
   "execution_count": 56,
   "id": "b363fc77",
   "metadata": {},
   "outputs": [
    {
     "data": {
      "text/plain": [
       "5*h^(-1) + 1 + Order(h^20)"
      ]
     },
     "execution_count": 56,
     "metadata": {},
     "output_type": "execute_result"
    }
   ],
   "source": [
    "NonFatgraph(2).subs(p_1=1,p_2 = 1, p_3 =1,p_4=1,p_5=1,p_6=1,p_7 =1,p_8=1 , p_9 =1).series(h,20)\n"
   ]
  },
  {
   "cell_type": "code",
   "execution_count": 59,
   "id": "dd7c5ebe",
   "metadata": {},
   "outputs": [
    {
     "data": {
      "text/plain": [
       "12*h^(-1) + 18 + 18*h + Order(h^5)"
      ]
     },
     "execution_count": 59,
     "metadata": {},
     "output_type": "execute_result"
    }
   ],
   "source": [
    "NonFatgraph(3).subs(p_1=0,p_2 = 0, p_3 =1,p_4=0,p_5=0,p_6=0,p_7 =0).series(h,5)\n"
   ]
  },
  {
   "cell_type": "code",
   "execution_count": 60,
   "id": "5264ed0c",
   "metadata": {},
   "outputs": [
    {
     "data": {
      "text/plain": [
       "648*h^(-2) + 11016*h^(-1) + 52200 + 153720*h + 163152*h^2 + 80064*h^3 + Order(h^5)"
      ]
     },
     "execution_count": 60,
     "metadata": {},
     "output_type": "execute_result"
    }
   ],
   "source": [
    "NonFatgraph(6).subs(p_1=0,p_2 = 0, p_3 =1,p_4=0,p_5=0,p_6=0,p_7 =0).series(h,5)\n"
   ]
  },
  {
   "cell_type": "code",
   "execution_count": 61,
   "id": "0f4056af",
   "metadata": {},
   "outputs": [
    {
     "data": {
      "text/plain": [
       "154608*h^(-3) + 5315760*h^(-2) + (11153376*p_9 + 82484640)*h^(-1) + (388994400*p_9 + 654242400) + (5861471040*p_9 + 3314216304)*h + (47697128640*p_9 + 9546571440)*h^2 + (235746026208*p_9 + 17195036160)*h^3 + (695694031200*p_9 + 15398683200)*h^4 + Order(h^5)"
      ]
     },
     "execution_count": 61,
     "metadata": {},
     "output_type": "execute_result"
    }
   ],
   "source": [
    "NonFatgraph(9).subs(p_1=0,p_2 = 0, p_3 =1,p_4=0,p_5=0,p_6=0,p_7 =0).series(h,5)\n"
   ]
  },
  {
   "cell_type": "code",
   "execution_count": 169,
   "id": "a2a434a5",
   "metadata": {},
   "outputs": [
    {
     "data": {
      "text/plain": [
       "1/6*p_1^3/((h + 1)*h^3)"
      ]
     },
     "execution_count": 169,
     "metadata": {},
     "output_type": "execute_result"
    }
   ],
   "source": [
    "e1.subs(p_2 =0 , p_3 =0)"
   ]
  },
  {
   "cell_type": "code",
   "execution_count": 170,
   "id": "a9f723fa",
   "metadata": {},
   "outputs": [],
   "source": [
    "e2 =(-1)^(3-2)*Gschur(hook(3,2))*prod((1-(2-j)*h)^(-1) for j in range(1,3))"
   ]
  },
  {
   "cell_type": "code",
   "execution_count": 171,
   "id": "59ea6c66",
   "metadata": {},
   "outputs": [
    {
     "data": {
      "text/plain": [
       "1/3*p_1^3/((h - 1)*h^3)"
      ]
     },
     "execution_count": 171,
     "metadata": {},
     "output_type": "execute_result"
    }
   ],
   "source": [
    "e2.subs(p_2 =0 , p_3 =0)"
   ]
  },
  {
   "cell_type": "code",
   "execution_count": 188,
   "id": "3657a5ae",
   "metadata": {},
   "outputs": [
    {
     "data": {
      "text/plain": [
       "1/8*p_1^4/h^4 - 1/4*p_1^2*p_2/h^3 - 1/8*p_2^2/h^2 + 1/4*p_4/h"
      ]
     },
     "execution_count": 188,
     "metadata": {},
     "output_type": "execute_result"
    }
   ],
   "source": [
    "Gschur([2,1,1])"
   ]
  },
  {
   "cell_type": "code",
   "execution_count": 190,
   "id": "bab82b41",
   "metadata": {},
   "outputs": [
    {
     "data": {
      "text/plain": [
       "1/8*p[1, 1, 1, 1] - 1/4*p[2, 1, 1] - 1/8*p[2, 2] + 1/4*p[4]"
      ]
     },
     "execution_count": 190,
     "metadata": {},
     "output_type": "execute_result"
    }
   ],
   "source": [
    "P(s1([2,1,1]))"
   ]
  },
  {
   "cell_type": "code",
   "execution_count": 73,
   "id": "4d5cb48e",
   "metadata": {},
   "outputs": [
    {
     "data": {
      "text/plain": [
       "(2*p_1^2 + 3*p_2)*h^(-1) + (p_2) + Order(h^10)"
      ]
     },
     "execution_count": 73,
     "metadata": {},
     "output_type": "execute_result"
    }
   ],
   "source": [
    "NonFatgraph(2).subs(p_5=0,p_6=0,p_7 =0).series(h,10)\n"
   ]
  },
  {
   "cell_type": "code",
   "execution_count": 74,
   "id": "2a8983e0",
   "metadata": {},
   "outputs": [
    {
     "data": {
      "text/plain": [
       "(p_1^2 + p_2)*h^(-1) + Order(h^10)"
      ]
     },
     "execution_count": 74,
     "metadata": {},
     "output_type": "execute_result"
    }
   ],
   "source": [
    "Fatgraph(2).subs(p_5=0,p_6=0,p_7 =0).series(h,10)\n"
   ]
  },
  {
   "cell_type": "code",
   "execution_count": 70,
   "id": "397f7be3",
   "metadata": {},
   "outputs": [
    {
     "data": {
      "text/plain": [
       "(p_1^5)*h^(-5) + (55*p_1^5)*h^(-3) + (64*p_1^5)*h^(-1) + Order(h^5)"
      ]
     },
     "execution_count": 70,
     "metadata": {},
     "output_type": "execute_result"
    }
   ],
   "source": [
    "NonFatgraph(5).subs(p_2 = 0, p_3 =0,p_4=0,p_5=0,p_6=0,p_7 =0).series(h,5)\n"
   ]
  },
  {
   "cell_type": "code",
   "execution_count": 77,
   "id": "49a73d20",
   "metadata": {},
   "outputs": [
    {
     "data": {
      "text/plain": [
       "(4*p_1^2 + 3*p_2)*h^(-1) + (2*p_2) + (3*p_2)*h + Order(h^20)"
      ]
     },
     "execution_count": 77,
     "metadata": {},
     "output_type": "execute_result"
    }
   ],
   "source": [
    "NonRibb(2).series(h)"
   ]
  },
  {
   "cell_type": "code",
   "execution_count": 87,
   "id": "08777f6d",
   "metadata": {},
   "outputs": [
    {
     "data": {
      "text/plain": [
       "(12*p_3)*h^(-1) + (36*p_3) + (126*p_3)*h + (72*p_3)*h^2 + (42*p_3)*h^3 + Order(h^20)"
      ]
     },
     "execution_count": 87,
     "metadata": {},
     "output_type": "execute_result"
    }
   ],
   "source": [
    "NonRibb(3).subs(p_1 =0, p_2 = 0).series(h)"
   ]
  },
  {
   "cell_type": "code",
   "execution_count": 88,
   "id": "005439b5",
   "metadata": {},
   "outputs": [
    {
     "data": {
      "text/plain": [
       "(648*p_3^2)*h^(-2) + (22032*p_3^2 + 4536*p_6)*h^(-1) + (243288*p_3^2 + 117936*p_6) + (2076480*p_3^2 + 1620648*p_6)*h + (8754264*p_3^2 + 11318400*p_6)*h^2 + (31787856*p_3^2 + 57867048*p_6)*h^3 + (60410664*p_3^2 + 173849328*p_6)*h^4 + (97549920*p_3^2 + 398573784*p_6)*h^5 + (77443488*p_3^2 + 533887200*p_6)*h^6 + (44819712*p_3^2 + 511072416*p_6)*h^7 + (8667648*p_3^2 + 245051136*p_6)*h^8 + (57293568*p_6)*h^9 + Order(h^20)"
      ]
     },
     "execution_count": 88,
     "metadata": {},
     "output_type": "execute_result"
    }
   ],
   "source": [
    "NonRibb(6).subs(p_1 =0, p_2 = 0, p_4 =0 , p_5 =0).series(h)"
   ]
  },
  {
   "cell_type": "code",
   "execution_count": 113,
   "id": "6e0bdda0",
   "metadata": {},
   "outputs": [
    {
     "data": {
      "text/plain": [
       "(x_1, y_1, y)"
      ]
     },
     "execution_count": 113,
     "metadata": {},
     "output_type": "execute_result"
    }
   ],
   "source": [
    "var('x_1' , 'y_1','y' )"
   ]
  },
  {
   "cell_type": "code",
   "execution_count": 111,
   "id": "e69e8150",
   "metadata": {},
   "outputs": [
    {
     "data": {
      "text/plain": [
       "x^4"
      ]
     },
     "execution_count": 111,
     "metadata": {},
     "output_type": "execute_result"
    }
   ],
   "source": [
    "Gschur([4]).subs(p_1 = x, p_2= x^2, p_3 =x^3 , p_4 = x^4,h=1)"
   ]
  },
  {
   "cell_type": "code",
   "execution_count": 103,
   "id": "1b08d2a8",
   "metadata": {},
   "outputs": [
    {
     "data": {
      "text/plain": [
       "1/6*x^3"
      ]
     },
     "execution_count": 103,
     "metadata": {},
     "output_type": "execute_result"
    }
   ],
   "source": [
    "Gschur([1,2]).subs(p_1 = x, p_2= x^2, p_3 =x^3,h=1)"
   ]
  },
  {
   "cell_type": "code",
   "execution_count": 104,
   "id": "59b825d2",
   "metadata": {},
   "outputs": [
    {
     "data": {
      "text/plain": [
       "0"
      ]
     },
     "execution_count": 104,
     "metadata": {},
     "output_type": "execute_result"
    }
   ],
   "source": [
    "Gschur([1,1,1]).subs(p_1 = x, p_2= x^2, p_3 =x^3,h=1)"
   ]
  },
  {
   "cell_type": "code",
   "execution_count": 108,
   "id": "19bb803e",
   "metadata": {},
   "outputs": [
    {
     "data": {
      "text/plain": [
       "0"
      ]
     },
     "execution_count": 108,
     "metadata": {},
     "output_type": "execute_result"
    }
   ],
   "source": [
    "Gschur([2,2]).subs(p_1 = x, p_2= x^2, p_3 =x^3, p_4 = x^4,h=1)"
   ]
  },
  {
   "cell_type": "code",
   "execution_count": 107,
   "id": "e424581b",
   "metadata": {},
   "outputs": [
    {
     "data": {
      "text/plain": [
       "0"
      ]
     },
     "execution_count": 107,
     "metadata": {},
     "output_type": "execute_result"
    }
   ],
   "source": [
    "Gschur([2,2,1]).subs(p_1 = x, p_2= x^2, p_3 =x^3, p_4 = x^4, p_5 =x^5,h=1)"
   ]
  },
  {
   "cell_type": "code",
   "execution_count": 121,
   "id": "e7f28f2e",
   "metadata": {},
   "outputs": [
    {
     "data": {
      "text/plain": [
       "1/40*(x + y)^5"
      ]
     },
     "execution_count": 121,
     "metadata": {},
     "output_type": "execute_result"
    }
   ],
   "source": [
    "Gschur([2,3]).subs(p_1 = x+y, p_2= x^2+ y^2, p_3 =x^3 + y^3, p_4 = x^4+y^4, p_5 =x^5 + y^5,h=1)"
   ]
  },
  {
   "cell_type": "code",
   "execution_count": 118,
   "id": "19173050",
   "metadata": {},
   "outputs": [
    {
     "data": {
      "text/plain": [
       "1/12*(x + y)^4 + 1/4*(x^2 + y^2)^2 - 1/3*(x^3 + y^3)*(x + y)"
      ]
     },
     "execution_count": 118,
     "metadata": {},
     "output_type": "execute_result"
    }
   ],
   "source": [
    "Gschur([2,2]).subs(p_1 = x+y, p_2= x^2+ y^2, p_3 =x^3 + y^3, p_4 = x^4+y^4, p_5 =x^5 + y^5,h=1)"
   ]
  },
  {
   "cell_type": "code",
   "execution_count": 120,
   "id": "dbb88189",
   "metadata": {},
   "outputs": [
    {
     "data": {
      "text/plain": [
       "1/8*(x + y)^4 + 1/4*x^4 + 1/4*y^4 - 1/4*(x^2 + y^2)*(x + y)^2 - 1/8*(x^2 + y^2)^2"
      ]
     },
     "execution_count": 120,
     "metadata": {},
     "output_type": "execute_result"
    }
   ],
   "source": [
    "Gschur([2,1,1]).subs(p_1 = x+y, p_2= x^2+ y^2, p_3 =x^3 + y^3, p_4 = x^4+y^4, p_5 =x^5 + y^5,h=1)"
   ]
  },
  {
   "cell_type": "code",
   "execution_count": 122,
   "id": "68b5f099",
   "metadata": {},
   "outputs": [
    {
     "data": {
      "text/plain": [
       "1/24*(x + y)^5 - 1/12*(x^2 + y^2)*(x + y)^3 + 1/8*(x^2 + y^2)^2*(x + y) - 1/6*(x^3 + y^3)*(x + y)^2 - 1/6*(x^3 + y^3)*(x^2 + y^2) + 1/4*(x^4 + y^4)*(x + y)"
      ]
     },
     "execution_count": 122,
     "metadata": {},
     "output_type": "execute_result"
    }
   ],
   "source": [
    "Gschur([2,2,1]).subs(p_1 = x+y, p_2= x^2+ y^2, p_3 =x^3 + y^3, p_4 = x^4+y^4, p_5 =x^5 + y^5,h=1)"
   ]
  },
  {
   "cell_type": "code",
   "execution_count": null,
   "id": "099662b9",
   "metadata": {},
   "outputs": [],
   "source": []
  }
 ],
 "metadata": {
  "kernelspec": {
   "display_name": "SageMath 9.4",
   "language": "sage",
   "name": "sagemath"
  },
  "language_info": {
   "codemirror_mode": {
    "name": "ipython",
    "version": 3
   },
   "file_extension": ".py",
   "mimetype": "text/x-python",
   "name": "python",
   "nbconvert_exporter": "python",
   "pygments_lexer": "ipython3",
   "version": "3.9.9"
  }
 },
 "nbformat": 4,
 "nbformat_minor": 5
}
